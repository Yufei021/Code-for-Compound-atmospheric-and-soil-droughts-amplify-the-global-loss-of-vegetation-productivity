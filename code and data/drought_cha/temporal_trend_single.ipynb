{
 "cells": [
  {
   "cell_type": "code",
   "execution_count": 1,
   "id": "3bc82f26",
   "metadata": {},
   "outputs": [],
   "source": [
    "import pandas as pd\n",
    "import numpy as np\n",
    "import rasterio\n",
    "import os\n",
    "\n",
    "\n",
    "# 读取文件路径\n",
    "vpd_path = r'G:\\paper01\\era5\\VPD_mon_Clip'\n",
    "sm_path = r'G:\\paper01\\era5\\sm_layer2_mon_res\\1'\n",
    "\n",
    "# 设置工作空间为指定的文件夹\n",
    "workspace_path = 'G:'  # 假设您想将工作空间设在这个路径\n",
    "os.chdir(workspace_path)"
   ]
  },
  {
   "cell_type": "code",
   "execution_count": 2,
   "id": "8ce3c353",
   "metadata": {},
   "outputs": [],
   "source": [
    "# 定义日期范围\n",
    "date_range = pd.date_range('1982-01-01', '2018-12-31', freq='M')\n",
    "\n",
    "# 栅格的大小为360x720 (VPD) 和 361x720 (SM)\n",
    "# 初始化存储数组，增加一个时间维度（即date_range的长度）\n",
    "northern_hemisphere_vpd = np.empty((len(date_range), 180, 720), dtype=np.float32)\n",
    "southern_hemisphere_vpd = np.empty((len(date_range), 180, 720), dtype=np.float32)\n",
    "northern_hemisphere_sm = np.empty((len(date_range), 180, 720), dtype=np.float32)\n",
    "southern_hemisphere_sm = np.empty((len(date_range), 180, 720), dtype=np.float32)\n",
    "\n",
    "# 将初始数组填充为NaN（防止后续计算出错）\n",
    "northern_hemisphere_vpd.fill(np.nan)\n",
    "southern_hemisphere_vpd.fill(np.nan)\n",
    "northern_hemisphere_sm.fill(np.nan)\n",
    "southern_hemisphere_sm.fill(np.nan)\n",
    "\n",
    "# 定义北半球和南半球对应的月份\n",
    "northern_months = [4, 5, 6, 7, 8, 9]  \n",
    "southern_months = [10, 11, 12, 1, 2, 3]  \n",
    "\n",
    "# VPD和SM的纬度行划分，注意行数不同\n",
    "vpd_northern_hemisphere_rows = slice(0, 180)  \n",
    "vpd_southern_hemisphere_rows = slice(180, 360)  \n",
    "sm_northern_hemisphere_rows = slice(0, 180)  \n",
    "sm_southern_hemisphere_rows = slice(180, 360) "
   ]
  },
  {
   "cell_type": "markdown",
   "id": "254806a9",
   "metadata": {},
   "source": [
    "百分位数和标准差"
   ]
  },
  {
   "cell_type": "code",
   "execution_count": 3,
   "id": "2ac1b9e7",
   "metadata": {},
   "outputs": [
    {
     "name": "stderr",
     "output_type": "stream",
     "text": [
      "d:\\anaconda3\\Lib\\site-packages\\numpy\\lib\\nanfunctions.py:1872: RuntimeWarning: Degrees of freedom <= 0 for slice.\n",
      "  var = nanvar(a, axis=axis, dtype=dtype, out=out, ddof=ddof,\n"
     ]
    }
   ],
   "source": [
    "def calculate_monthly_90th_percentile(vpd_path,  num_rows, num_cols):\n",
    "    # 初始化数组\n",
    "    northern_vpd_90th_percentile = np.zeros((12, num_rows, num_cols))\n",
    "    southern_vpd_90th_percentile = np.zeros((12, num_rows, num_cols))\n",
    "    nor_vpd_std = np.zeros((12, num_rows, num_cols))\n",
    "    sou_vpd_std = np.zeros((12, num_rows, num_cols))\n",
    "\n",
    "    # 组织数据：创建一个字典来收集每个月份的所有年份的数据\n",
    "    northern_hemisphere_vpd = {month: [] for month in northern_months}\n",
    "    southern_hemisphere_vpd = {month: [] for month in southern_months}\n",
    "\n",
    "    # 遍历每年每月，收集数据\n",
    "    for date in date_range:\n",
    "        month = date.month\n",
    "        year = date.year\n",
    "        # 读取VPD数据\n",
    "        vpd_file_path = f\"{vpd_path}/VPD_X{year}.{month:02d}.tif\"\n",
    "        if os.path.exists(vpd_file_path):\n",
    "            with rasterio.open(vpd_file_path) as vpd_src:\n",
    "                vpd_data = vpd_src.read(1)  # 读取整个全球的VPD数据\n",
    "                vpd_data[vpd_data < 0] = np.nan  # 将非常小的值替换为 NaN，避免溢出\n",
    "                \n",
    "                # 处理北半球4-9月数据\n",
    "                if month in northern_months:\n",
    "                    northern_hemisphere_vpd[month].append(vpd_data[vpd_northern_hemisphere_rows, :])\n",
    "                \n",
    "                # 处理南半球10-3月数据\n",
    "                if month in southern_months:\n",
    "                    southern_hemisphere_vpd[month].append(vpd_data[vpd_southern_hemisphere_rows, :])\n",
    "\n",
    "    # 计算每月的90百分位数\n",
    "    for month in range(1, 13):\n",
    "        if month in northern_months:\n",
    "            i = month - 1  # 转换月份到索引\n",
    "            if northern_hemisphere_vpd[month]:  # 确保有数据\n",
    "                data_stack_north = np.stack(northern_hemisphere_vpd[month])\n",
    "                northern_vpd_90th_percentile[i] = np.percentile(data_stack_north, 90, axis=0)\n",
    "                nor_vpd_std[i] = np.nanstd(data_stack_north, axis=0)\n",
    "        if month in southern_months:\n",
    "            i = month - 1\n",
    "            if southern_hemisphere_vpd[month]:\n",
    "                data_stack_south = np.stack(southern_hemisphere_vpd[month])\n",
    "                southern_vpd_90th_percentile[i] = np.percentile(data_stack_south, 90, axis=0)\n",
    "                sou_vpd_std[i] = np.nanstd(data_stack_south, axis=0)\n",
    "    return northern_vpd_90th_percentile, southern_vpd_90th_percentile, nor_vpd_std, sou_vpd_std\n",
    "\n",
    "\n",
    "num_rows = 180  \n",
    "num_cols = 720  \n",
    "\n",
    "# 调用函数\n",
    "northern_vpd_90th_percentile, southern_vpd_90th_percentile, nor_vpd_std, sou_vpd_std = calculate_monthly_90th_percentile(vpd_path, num_rows, num_cols)\n"
   ]
  },
  {
   "cell_type": "code",
   "execution_count": 4,
   "id": "970ab981",
   "metadata": {},
   "outputs": [],
   "source": [
    "vpd_90th = np.concatenate((northern_vpd_90th_percentile, southern_vpd_90th_percentile), axis=1)  # 沿行（垂直）拼接\n",
    "vpd_std = np.concatenate((nor_vpd_std, sou_vpd_std), axis=1)  # 沿行（垂直）拼接\n"
   ]
  },
  {
   "cell_type": "code",
   "execution_count": 5,
   "id": "ac9a2f79",
   "metadata": {},
   "outputs": [],
   "source": [
    "def calculate_monthly_10th_percentile(sm_path,  num_rows, num_cols):\n",
    "    # 初始化用来存储每月百分位数的数组\n",
    "    northern_sm_10th_percentile = np.zeros((12, num_rows, num_cols))\n",
    "    southern_sm_10th_percentile = np.zeros((12, num_rows, num_cols))\n",
    "    nor_sm_std = np.zeros((12, num_rows, num_cols))\n",
    "    sou_sm_std = np.zeros((12, num_rows, num_cols))\n",
    "\n",
    "    # 组织数据：创建一个字典来收集每个月份的所有年份的数据\n",
    "    northern_hemisphere_sm = {month: [] for month in northern_months}\n",
    "    southern_hemisphere_sm = {month: [] for month in southern_months}\n",
    "\n",
    "    # 遍历每年每月，收集数据\n",
    "    for date in date_range:\n",
    "        month = date.month\n",
    "        year = date.year\n",
    "        # 读取SM数据\n",
    "        sm_file_path = f\"{sm_path}/sm_{year}{month:02d}.tif\"\n",
    "        if os.path.exists(sm_file_path):\n",
    "            with rasterio.open(sm_file_path) as sm_src:\n",
    "                sm_data = sm_src.read(1)  # 读取整个全球的VPD数据\n",
    "                sm_data[sm_data < 0] = np.nan  # 将非常小的值替换为 NaN，避免溢出\n",
    "                \n",
    "                # 处理北半球4-9月数据\n",
    "                if month in northern_months:\n",
    "                    northern_hemisphere_sm[month].append(sm_data[sm_northern_hemisphere_rows, :])\n",
    "                \n",
    "                # 处理南半球10-3月数据\n",
    "                if month in southern_months:\n",
    "                    southern_hemisphere_sm[month].append(sm_data[sm_southern_hemisphere_rows, :])\n",
    "\n",
    "    # 计算每月的10百分位数和标准差\n",
    "    for month in range(1, 13):\n",
    "        if month in northern_months:\n",
    "            i = month - 1  # 转换月份到索引\n",
    "            if northern_hemisphere_sm[month]:  # 确保有数据\n",
    "                data_stack_north = np.stack(northern_hemisphere_sm[month])\n",
    "                northern_sm_10th_percentile[i] = np.percentile(data_stack_north, 10, axis=0)\n",
    "                nor_sm_std[i] = np.nanstd(data_stack_north, axis=0)\n",
    "        if month in southern_months:\n",
    "            i = month - 1\n",
    "            if southern_hemisphere_sm[month]:\n",
    "                data_stack_south = np.stack(southern_hemisphere_sm[month])\n",
    "                southern_sm_10th_percentile[i] = np.percentile(data_stack_south, 10, axis=0)\n",
    "                sou_sm_std[i] = np.nanstd(data_stack_south, axis=0)\n",
    "    return northern_sm_10th_percentile, southern_sm_10th_percentile, nor_sm_std, sou_sm_std\n",
    "\n",
    "\n",
    "num_rows = 180  \n",
    "num_cols = 720  \n",
    "\n",
    "# 调用函数\n",
    "northern_sm_10th_percentile, southern_sm_10th_percentile, nor_sm_std, sou_sm_std = calculate_monthly_10th_percentile(sm_path, num_rows, num_cols)\n"
   ]
  },
  {
   "cell_type": "code",
   "execution_count": 6,
   "id": "67120963",
   "metadata": {},
   "outputs": [],
   "source": [
    "sm_10th = np.concatenate((northern_sm_10th_percentile, southern_sm_10th_percentile), axis=1)  # 沿行（垂直）拼接\n",
    "sm_std = np.concatenate((nor_sm_std, sou_sm_std), axis=1)  # 沿行（垂直）拼接\n"
   ]
  },
  {
   "cell_type": "code",
   "execution_count": 7,
   "id": "72ed370b",
   "metadata": {},
   "outputs": [],
   "source": [
    "vpd_data = np.full((444, 360, 720), np.nan, dtype=np.float32)\n",
    "sm_data = np.full((444, 360, 720), np.nan, dtype=np.float32)\n",
    "\n",
    "# 读取VPD和SM数据\n",
    "for idx, date in enumerate(date_range):\n",
    "    month = date.month\n",
    "    year = date.year\n",
    "    # 读取VPD数据\n",
    "    vpd_file_path = f\"{vpd_path}/VPD_X{year}.{month:02d}.tif\"\n",
    "    if os.path.exists(vpd_file_path):\n",
    "        with rasterio.open(vpd_file_path) as vpd_src:\n",
    "            data = vpd_src.read(1)  # 读取整个全球的VPD数据\n",
    "            data = data[:-1, :]  # 强制裁剪为 (360, 720)\n",
    "            data[data <= 0] = np.nan\n",
    "            vpd_data[idx] = data\n",
    "\n",
    "    # 读取SM数据\n",
    "    sm_file_path = f\"{sm_path}/sm_{year}{month:02d}.tif\"\n",
    "    if os.path.exists(sm_file_path):\n",
    "        with rasterio.open(sm_file_path) as sm_src:\n",
    "            data1 = sm_src.read(1)  # 读取整个全球的VPD数据\n",
    "            data1[data1 <= 0] = np.nan\n",
    "            sm_data[idx] = data1\n",
    "\n",
    "           "
   ]
  },
  {
   "cell_type": "code",
   "execution_count": 8,
   "id": "065d2342",
   "metadata": {},
   "outputs": [],
   "source": [
    "vpd_90th[vpd_90th <=0] = np.nan\n",
    "vpd_std[vpd_std <=0] = np.nan\n",
    "sm_10th[sm_10th <=0] = np.nan\n",
    "sm_std[sm_std <=0] = np.nan"
   ]
  },
  {
   "cell_type": "code",
   "execution_count": null,
   "id": "efe9ae9f",
   "metadata": {},
   "outputs": [],
   "source": [
    "print(avg_intensity_windows.shape)"
   ]
  },
  {
   "cell_type": "code",
   "execution_count": null,
   "id": "0787a3ce",
   "metadata": {
    "scrolled": true
   },
   "outputs": [],
   "source": [
    "import matplotlib.pyplot as plt\n",
    "\n",
    "# 确保 NaN 值不会影响颜色映射\n",
    "plt.imshow(sm_std[1,:,:], cmap='viridis')\n",
    "plt.colorbar(label='')  # 添加颜色条\n",
    "plt.title('vpd1982-2018)')\n",
    "plt.xlabel('X Coordinate')\n",
    "plt.ylabel('Y Coordinate')\n",
    "plt.show()\n"
   ]
  },
  {
   "cell_type": "code",
   "execution_count": null,
   "id": "f73e6578",
   "metadata": {},
   "outputs": [],
   "source": []
  },
  {
   "cell_type": "code",
   "execution_count": null,
   "id": "ec04a9d2",
   "metadata": {},
   "outputs": [],
   "source": [
    "print(northern_vpd_90th_percentile.shape)"
   ]
  },
  {
   "cell_type": "code",
   "execution_count": 12,
   "id": "37f0afe6",
   "metadata": {},
   "outputs": [],
   "source": [
    "import numpy as np\n",
    "\n",
    "def find_global_drought_events(vpd_data, sm_data, vpd_90th, sm_10th):\n",
    "    \"\"\"\n",
    "    vpd_data, sm_data: (444, 360, 720)\n",
    "    vpd_90th, sm_10th: (12, 360, 720)\n",
    "    \"\"\"\n",
    "    n_months, n_lat, n_lon = sm_data.shape\n",
    "    total_years = 37\n",
    "    months_per_year = 12\n",
    "    event = np.zeros_like(sm_data, dtype=bool)\n",
    "\n",
    "    for month_index in range(n_months):\n",
    "        month = month_index % 12 + 1\n",
    "        percentile_index = month - 1\n",
    "\n",
    "        # 北半球：lat 0–179，月 4–9\n",
    "        if month in [4, 5, 6, 7, 8, 9]:\n",
    "            event[month_index, 0:180, :] = (\n",
    "                (sm_data[month_index, 0:180, :] < sm_10th[percentile_index, 0:180, :])\n",
    "            )\n",
    "\n",
    "        # 南半球：lat 180–359，月 1–3 和 10–12\n",
    "        elif month in [1, 2, 3, 10, 11, 12]:\n",
    "            event[month_index, 180:360, :] = (\n",
    "                (sm_data[month_index, 180:360, :] < sm_10th[percentile_index, 180:360, :])\n",
    "            )\n",
    "\n",
    "        # 其余月份：默认保持 False（即非生长季）\n",
    "\n",
    "    # 初始化滑动窗口结果\n",
    "    window_size = 5\n",
    "    num_windows = total_years - window_size + 1\n",
    "    avg_duration_windows = np.zeros((num_windows, n_lat, n_lon), dtype=np.float32)\n",
    "    frequency_windows = np.zeros((num_windows, n_lat, n_lon), dtype=np.float32)\n",
    "\n",
    "    for w in range(num_windows):\n",
    "        start_index = w * months_per_year\n",
    "        end_index = start_index + (window_size * months_per_year)\n",
    "        event_window = event[start_index:end_index]\n",
    "\n",
    "        for i in range(n_lat):\n",
    "            for j in range(n_lon):\n",
    "                grid_event = event_window[:, i, j]\n",
    "                current_duration = 0\n",
    "                duration_sum = 0\n",
    "                event_count = 0\n",
    "\n",
    "                for m in range(grid_event.shape[0]):\n",
    "                    if grid_event[m]:\n",
    "                        current_duration += 1\n",
    "                    else:\n",
    "                        if current_duration > 0:\n",
    "                            duration_sum += current_duration\n",
    "                            event_count += 1\n",
    "                            current_duration = 0\n",
    "                if current_duration > 0:\n",
    "                    duration_sum += current_duration\n",
    "                    event_count += 1\n",
    "\n",
    "                if event_count > 0:\n",
    "                    avg_duration_windows[w, i, j] = duration_sum / event_count\n",
    "                    frequency_windows[w, i, j] = event_count / window_size\n",
    "\n",
    "    return avg_duration_windows, frequency_windows\n"
   ]
  },
  {
   "cell_type": "code",
   "execution_count": 13,
   "id": "70bb3cbf",
   "metadata": {},
   "outputs": [],
   "source": [
    "avg_duration_windows, frequency_windows = find_global_drought_events(vpd_data, sm_data, vpd_90th, sm_10th)\n"
   ]
  },
  {
   "cell_type": "code",
   "execution_count": 14,
   "id": "d60f2ebb",
   "metadata": {},
   "outputs": [],
   "source": [
    "avg_duration_windows[avg_duration_windows<=0] = np.nan\n",
    "frequency_windows[frequency_windows<=0] = np.nan"
   ]
  },
  {
   "cell_type": "code",
   "execution_count": 15,
   "id": "4e52b94e",
   "metadata": {},
   "outputs": [],
   "source": [
    "# 计算所有像元的平均值，得到 33 个数\n",
    "avg_duration_mean = np.nanmean(avg_duration_windows, axis=(1, 2))\n",
    "frequency_mean = np.nanmean(frequency_windows, axis=(1, 2))"
   ]
  },
  {
   "cell_type": "code",
   "execution_count": 17,
   "id": "48ccda40",
   "metadata": {},
   "outputs": [
    {
     "name": "stdout",
     "output_type": "stream",
     "text": [
      "[1.9357188 2.083523  2.1067169 2.1151545 2.07902   1.8276945 1.6998461\n",
      " 1.5951656 1.6020445 1.5835079 1.5636717 1.5651947 1.558116  1.5199639\n",
      " 1.8784153 2.001328  2.0317156 2.0476801 2.053535  1.879194  1.750644\n",
      " 1.6855471 1.6600842 1.6355474 1.9224492 2.068875  2.1144044 2.1370935\n",
      " 2.1231534 2.145476  2.0961423 2.0479937 2.0209792]\n"
     ]
    }
   ],
   "source": [
    "print(avg_duration_mean)"
   ]
  },
  {
   "cell_type": "code",
   "execution_count": 18,
   "id": "107e6b68",
   "metadata": {},
   "outputs": [],
   "source": [
    "import numpy as np\n",
    "\n",
    "def find_intensity(vpd_data, sm_data, vpd_90th, sm_10th, vpd_std, sm_std):\n",
    "    n_months, n_lat, n_lon = sm_data.shape\n",
    "    total_years = 37\n",
    "    months_per_year = 12\n",
    "    event = np.zeros_like(sm_data, dtype=bool)\n",
    "\n",
    "    for month_index in range(n_months):\n",
    "        month = month_index % 12 + 1\n",
    "        percentile_index = month - 1\n",
    "\n",
    "        # 北半球：lat 0–179，月 4–9\n",
    "        if month in [4, 5, 6, 7, 8, 9]:\n",
    "            event[month_index, 0:180, :] = (\n",
    "                (sm_data[month_index, 0:180, :] < sm_10th[percentile_index, 0:180, :])\n",
    "            )\n",
    "\n",
    "        # 南半球：lat 180–359，月 1–3 和 10–12\n",
    "        elif month in [1, 2, 3, 10, 11, 12]:\n",
    "            event[month_index, 180:360, :] = (\n",
    "                (sm_data[month_index, 180:360, :] < sm_10th[percentile_index, 180:360, :])\n",
    "            )\n",
    "\n",
    "    # 初始化数组\n",
    "    window_size = 5  # 5年窗口\n",
    "    num_windows = total_years - window_size + 1  # 共33个窗口 (1982-1986, ..., 2014-2018)\n",
    "    avg_intensity_windows = np.zeros((num_windows, event.shape[1], event.shape[2]), dtype=np.float32)\n",
    "    total_intensity_windows = np.zeros((num_windows, event.shape[1], event.shape[2]), dtype=np.float32)\n",
    "\n",
    "    for w in range(num_windows):\n",
    "        start_index = w * months_per_year  \n",
    "        end_index = start_index + (window_size * months_per_year)  \n",
    "        event_window = event[start_index:end_index]\n",
    "\n",
    "        # 提取当前窗口的数据\n",
    "        event_window = event[start_index:end_index]\n",
    "        sm_window = sm_data[start_index:end_index]\n",
    "        # vpd_window = vpd_data[start_index:end_index]\n",
    "\n",
    "        total_event_count_window = np.zeros(event.shape[1:], dtype=np.int32)\n",
    "        total_intensity_window = np.zeros(event.shape[1:], dtype=np.float32)\n",
    "\n",
    "        for i in range(event.shape[1]):\n",
    "            for j in range(event.shape[2]):\n",
    "                grid_event = event_window[:, i, j]\n",
    "\n",
    "                current_duration = 0\n",
    "                event_sm_sum = 0\n",
    "                # event_vpd_sum = 0\n",
    "\n",
    "                for month in range(grid_event.shape[0]):\n",
    "                    month_in_year = month % 12  \n",
    "                    if grid_event[month]:  \n",
    "                        current_duration += 1\n",
    "                        event_sm_sum += ((sm_window[month, i, j] - sm_10th[month_in_year, i, j]) / sm_std[month_in_year, i, j]) ** 2\n",
    "                        # event_vpd_sum += ((vpd_window[month, i, j] - vpd_90th[month_in_year, i, j]) / vpd_std[month_in_year, i, j]) ** 2\n",
    "                    else:\n",
    "                        if current_duration > 0:\n",
    "                            total_event_count_window[i, j] += 1\n",
    "                            \n",
    "                            intensity_val = np.sqrt((event_sm_sum ) / (2 * current_duration))\n",
    "                            total_intensity_window[i, j] += intensity_val\n",
    "\n",
    "                            current_duration = 0\n",
    "                            event_sm_sum = 0\n",
    "                            event_vpd_sum = 0   \n",
    "\n",
    "                if current_duration > 0:\n",
    "                    total_event_count_window[i, j] += 1\n",
    "                    intensity_val = np.sqrt((event_sm_sum ) / (2 * current_duration))\n",
    "                    total_intensity_window[i, j] += intensity_val\n",
    "\n",
    "        # 计算平均强度，防止除0\n",
    "        mask = total_event_count_window > 0\n",
    "        avg_intensity_window = np.zeros(event.shape[1:], dtype=np.float32)\n",
    "        avg_intensity_window[mask] = total_intensity_window[mask] / total_event_count_window[mask]\n",
    "\n",
    "        # 存储结果\n",
    "        avg_intensity_windows[w] = avg_intensity_window\n",
    "        total_intensity_windows[w] = total_intensity_window\n",
    "\n",
    "    return avg_intensity_windows, total_intensity_windows\n"
   ]
  },
  {
   "cell_type": "code",
   "execution_count": 19,
   "id": "11792230",
   "metadata": {},
   "outputs": [],
   "source": [
    "avg_intensity_windows, total_intensity_windows = find_intensity(vpd_data, sm_data, vpd_90th, sm_10th,  vpd_std, sm_std)"
   ]
  },
  {
   "cell_type": "code",
   "execution_count": 20,
   "id": "d1822be6",
   "metadata": {},
   "outputs": [],
   "source": [
    "avg_intensity_windows[avg_intensity_windows <= 0] = np.nan\n",
    "total_intensity_windows[total_intensity_windows <= 0] = np.nan"
   ]
  },
  {
   "cell_type": "code",
   "execution_count": 21,
   "id": "8c028f80",
   "metadata": {},
   "outputs": [],
   "source": [
    "# 计算所有像元的平均值，得到 33 个数\n",
    "avg_intensity_mean = np.nanmean(avg_intensity_windows, axis=(1, 2))\n",
    "total_intensity_mean = np.nanmean(total_intensity_windows, axis=(1, 2))"
   ]
  },
  {
   "cell_type": "code",
   "execution_count": 23,
   "id": "6454542c",
   "metadata": {},
   "outputs": [
    {
     "name": "stdout",
     "output_type": "stream",
     "text": [
      "[0.31179053 0.30478892 0.29558882 0.2949381  0.2960933  0.29417726\n",
      " 0.3008587  0.30203322 0.2961296  0.29784995 0.29321536 0.30404463\n",
      " 0.32016364 0.32503545 0.30944166 0.3002706  0.29313365 0.28029266\n",
      " 0.28018343 0.2753276  0.28541812 0.29738083 0.31029132 0.31406492\n",
      " 0.30919117 0.31175908 0.30373016 0.3032547  0.30422693 0.34114906\n",
      " 0.3421072  0.339871   0.3431465 ]\n"
     ]
    }
   ],
   "source": [
    "print(avg_intensity_mean)"
   ]
  },
  {
   "cell_type": "code",
   "execution_count": 24,
   "id": "b947e2e4",
   "metadata": {},
   "outputs": [],
   "source": [
    "# 创建 DataFrame\n",
    "years = np.arange(1984, 2017)  # 1982-1986 -> 1984, ..., 2014-2018 -> 2016\n",
    "df = pd.DataFrame({\n",
    "    \"Year\": years,\n",
    "    \"CDE_Duration\": avg_duration_mean,\n",
    "    \"CDE_Frequency\": frequency_mean,\n",
    "    \"CDE_intensity\": avg_intensity_mean,\n",
    "})\n",
    "\n",
    "# 保存为 CSV\n",
    "df.to_csv(r\"G:\\paper01\\M03图\\SM_干旱特征5年滑窗.csv\", index=False)\n"
   ]
  },
  {
   "cell_type": "code",
   "execution_count": null,
   "id": "bd394fe4",
   "metadata": {},
   "outputs": [],
   "source": []
  },
  {
   "cell_type": "code",
   "execution_count": null,
   "id": "fb972bab",
   "metadata": {},
   "outputs": [],
   "source": []
  },
  {
   "cell_type": "code",
   "execution_count": null,
   "id": "114eee91",
   "metadata": {},
   "outputs": [],
   "source": []
  }
 ],
 "metadata": {
  "kernelspec": {
   "display_name": "Python 3 (ipykernel)",
   "language": "python",
   "name": "python3"
  },
  "language_info": {
   "codemirror_mode": {
    "name": "ipython",
    "version": 3
   },
   "file_extension": ".py",
   "mimetype": "text/x-python",
   "name": "python",
   "nbconvert_exporter": "python",
   "pygments_lexer": "ipython3",
   "version": "3.11.5"
  }
 },
 "nbformat": 4,
 "nbformat_minor": 5
}
