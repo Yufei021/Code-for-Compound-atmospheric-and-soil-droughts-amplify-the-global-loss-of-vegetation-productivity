{
 "cells": [
  {
   "cell_type": "code",
   "execution_count": 1,
   "id": "ccef8bbf",
   "metadata": {},
   "outputs": [],
   "source": [
    "import numpy as np\n",
    "import pingouin as pg\n",
    "import pandas as pd\n",
    "import rasterio\n"
   ]
  },
  {
   "cell_type": "code",
   "execution_count": null,
   "id": "d31c8e42",
   "metadata": {},
   "outputs": [],
   "source": [
    "tif1_path = r\"D:\\paper01\\VPD&SM(M03)\\GIMMS_NIRV\\partial_cor\\VPD\\impact_factor\\vpd_loss.tif\"\n",
    "tif2_path = r\"D:\\paper01\\VPD&SM(M03)\\GIMMS_NIRV\\partial_cor\\VPD\\impact_factor\\dem.tif\"\n",
    "tif3_path = r\"D:\\paper01\\VPD&SM(M03)\\GIMMS_NIRV\\partial_cor\\VPD\\impact_factor\\t2m_Clip.tif\"\n",
    "tif4_path = r\"D:\\paper01\\VPD&SM(M03)\\GIMMS_NIRV\\partial_cor\\VPD\\impact_factor\\Intensity.tif\"\n",
    "\n",
    "# 数据读取和预处理\n",
    "def read_tif(path):\n",
    "    with rasterio.open(path) as tif:\n",
    "        data = tif.read(1).astype(float)\n",
    "        data[data < -9999] = np.nan  # 或根据实际 nodata 处理\n",
    "        return data\n",
    "\n",
    "data1 = read_tif(tif1_path)\n",
    "data2 = read_tif(tif2_path)\n",
    "data3 = read_tif(tif3_path)\n",
    "data4 = read_tif(tif4_path)\n",
    "# data5 = read_tif(tif5_path)\n",
    "\n",
    "window_size = 7\n",
    "stride = 1\n",
    "result_rows = data1.shape[0] - window_size + 1\n",
    "result_cols = data1.shape[1] - window_size + 1\n",
    "\n",
    "result = np.full((result_rows, result_cols), np.nan)\n",
    "p_values = np.full((result_rows, result_cols), np.nan)\n",
    "\n",
    "for i in range(result_rows):\n",
    "    for j in range(result_cols):\n",
    "        w1 = data1[i:i+window_size, j:j+window_size].flatten()\n",
    "        w2 = data2[i:i+window_size, j:j+window_size].flatten()\n",
    "        w3 = data3[i:i+window_size, j:j+window_size].flatten()\n",
    "        w4 = data4[i:i+window_size, j:j+window_size].flatten()\n",
    "\n",
    "        # 判断有效值数量\n",
    "        if any(np.count_nonzero(~np.isnan(w)) < 3 for w in [w1, w2, w3, w4]):\n",
    "            continue\n",
    "\n",
    "        df = pd.DataFrame({'data1': w1, 'data2': w2, 'data3': w3, 'data4': w4}).dropna()\n",
    "\n",
    "        if len(df) < 3:\n",
    "            continue\n",
    "\n",
    "        # 计算偏相关：data1 ~ data3, 控制其他变量\n",
    "        res = pg.partial_corr(data=df, x='data2', y='data1', covar=['data4', 'data3'])\n",
    "\n",
    "        r = res['r'].values[0]\n",
    "        p = res['p-val'].values[0]\n",
    "\n",
    "        # 去除偏相关系数异常值\n",
    "        if abs(r) > 0.8:\n",
    "            continue\n",
    "\n",
    "        result[i, j] = r\n",
    "        p_values[i, j] = p\n",
    "\n",
    "# 掩膜显著性水平\n",
    "filtered_result = np.copy(result)\n",
    "filtered_result[p_values > 0.05] = np.nan\n",
    "\n"
   ]
  },
  {
   "cell_type": "code",
   "execution_count": null,
   "id": "4be48f54",
   "metadata": {},
   "outputs": [],
   "source": [
    "filtered_result = -filtered_result\n",
    "result = -result"
   ]
  },
  {
   "cell_type": "code",
   "execution_count": null,
   "id": "ae13e63f",
   "metadata": {},
   "outputs": [],
   "source": [
    "import rasterio\n",
    "from rasterio.transform import Affine\n",
    "from rasterio.transform import from_origin\n",
    "# 保存结果到 GeoTIFF 文件\n",
    "output_path_filtered = r\"D:\\paper01\\TEST\\VPD&dem_unfilter.tif\"\n",
    "\n",
    "# 假设你有一个 GeoTIFF 文件作为源文件\n",
    "source_tif_path = r\"D:\\paper01\\VPD&SM(M03)\\GIMMS_NIRV\\partial_cor\\VPD\\impact_factor\\VPD&dem_filter.tif\"\n",
    "\n",
    "# 读取源文件的地理信息\n",
    "with rasterio.open(source_tif_path) as src_tif:\n",
    "    profile = src_tif.profile\n",
    "\n",
    "\n",
    "# 保存结果\n",
    "with rasterio.open(\n",
    "    output_path_filtered,\n",
    "    'w',\n",
    "    **profile  # 使用源文件的地理信息\n",
    ") as dst:\n",
    "    dst.write(filtered_result, 1)"
   ]
  },
  {
   "cell_type": "code",
   "execution_count": null,
   "id": "635dabdf",
   "metadata": {},
   "outputs": [],
   "source": []
  }
 ],
 "metadata": {
  "kernelspec": {
   "display_name": "myenv",
   "language": "python",
   "name": "python3"
  },
  "language_info": {
   "codemirror_mode": {
    "name": "ipython",
    "version": 3
   },
   "file_extension": ".py",
   "mimetype": "text/x-python",
   "name": "python",
   "nbconvert_exporter": "python",
   "pygments_lexer": "ipython3",
   "version": "3.12.0"
  }
 },
 "nbformat": 4,
 "nbformat_minor": 5
}
